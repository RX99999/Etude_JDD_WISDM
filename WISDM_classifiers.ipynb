{
  "cells": [
    {
      "cell_type": "markdown",
      "metadata": {
        "id": "view-in-github",
        "colab_type": "text"
      },
      "source": [
        "<a href=\"https://colab.research.google.com/github/RX99999/Etude_JDD_WISDM/blob/main/WISDM_classifiers.ipynb\" target=\"_parent\"><img src=\"https://colab.research.google.com/assets/colab-badge.svg\" alt=\"Open In Colab\"/></a>"
      ]
    },
    {
      "cell_type": "code",
      "execution_count": 1,
      "metadata": {
        "colab": {
          "base_uri": "https://localhost:8080/"
        },
        "id": "o1CcS57mRa15",
        "outputId": "9fec8f3d-ab72-413a-91b5-14bb23797955"
      },
      "outputs": [
        {
          "output_type": "stream",
          "name": "stdout",
          "text": [
            "Looking in indexes: https://pypi.org/simple, https://us-python.pkg.dev/colab-wheels/public/simple/\n",
            "Collecting sktime\n",
            "  Downloading sktime-0.17.0-py3-none-any.whl (16.1 MB)\n",
            "\u001b[2K     \u001b[90m━━━━━━━━━━━━━━━━━━━━━━━━━━━━━━━━━━━━━━━━\u001b[0m \u001b[32m16.1/16.1 MB\u001b[0m \u001b[31m62.1 MB/s\u001b[0m eta \u001b[36m0:00:00\u001b[0m\n",
            "\u001b[?25hRequirement already satisfied: scikit-learn<1.3.0,>=0.24.0 in /usr/local/lib/python3.9/dist-packages (from sktime) (1.2.2)\n",
            "Requirement already satisfied: numba>=0.53 in /usr/local/lib/python3.9/dist-packages (from sktime) (0.56.4)\n",
            "Requirement already satisfied: numpy<1.25,>=1.21.0 in /usr/local/lib/python3.9/dist-packages (from sktime) (1.22.4)\n",
            "Collecting deprecated>=1.2.13\n",
            "  Downloading Deprecated-1.2.13-py2.py3-none-any.whl (9.6 kB)\n",
            "Requirement already satisfied: pandas<2.0.0,>=1.1.0 in /usr/local/lib/python3.9/dist-packages (from sktime) (1.4.4)\n",
            "Requirement already satisfied: scipy<2.0.0,>=1.2.0 in /usr/local/lib/python3.9/dist-packages (from sktime) (1.10.1)\n",
            "Requirement already satisfied: wrapt<2,>=1.10 in /usr/local/lib/python3.9/dist-packages (from deprecated>=1.2.13->sktime) (1.14.1)\n",
            "Requirement already satisfied: setuptools in /usr/local/lib/python3.9/dist-packages (from numba>=0.53->sktime) (67.6.1)\n",
            "Requirement already satisfied: llvmlite<0.40,>=0.39.0dev0 in /usr/local/lib/python3.9/dist-packages (from numba>=0.53->sktime) (0.39.1)\n",
            "Requirement already satisfied: python-dateutil>=2.8.1 in /usr/local/lib/python3.9/dist-packages (from pandas<2.0.0,>=1.1.0->sktime) (2.8.2)\n",
            "Requirement already satisfied: pytz>=2020.1 in /usr/local/lib/python3.9/dist-packages (from pandas<2.0.0,>=1.1.0->sktime) (2022.7.1)\n",
            "Requirement already satisfied: threadpoolctl>=2.0.0 in /usr/local/lib/python3.9/dist-packages (from scikit-learn<1.3.0,>=0.24.0->sktime) (3.1.0)\n",
            "Requirement already satisfied: joblib>=1.1.1 in /usr/local/lib/python3.9/dist-packages (from scikit-learn<1.3.0,>=0.24.0->sktime) (1.1.1)\n",
            "Requirement already satisfied: six>=1.5 in /usr/local/lib/python3.9/dist-packages (from python-dateutil>=2.8.1->pandas<2.0.0,>=1.1.0->sktime) (1.16.0)\n",
            "Installing collected packages: deprecated, sktime\n",
            "Successfully installed deprecated-1.2.13 sktime-0.17.0\n"
          ]
        }
      ],
      "source": [
        "!pip install sktime\n",
        "import pandas as pd\n"
      ]
    },
    {
      "cell_type": "markdown",
      "source": [
        "La cellule suivante permet de charger les fichiers de jeu d'entraînement et le jeu de test. Ces deux fichiers sont disponibles dans le répertoire \"data\" qui se trouve sur le GitHub. Vous pouvez soit les télécharger et les upload dans le répertoire \"content\" avant chaque début de code, soit les stocker dans votre Google Drive et \"mount\" votre Drive pour y accéder, comme indiqué ci-dessous."
      ],
      "metadata": {
        "id": "3PalrEx4JTMl"
      }
    },
    {
      "cell_type": "code",
      "source": [
        "from google.colab import drive\n",
        "drive.mount('/content/drive')\n"
      ],
      "metadata": {
        "colab": {
          "base_uri": "https://localhost:8080/"
        },
        "id": "PyNqXBeJWnKt",
        "outputId": "d377e6d9-83f2-46d8-cddf-e673d452a7f7"
      },
      "execution_count": null,
      "outputs": [
        {
          "output_type": "stream",
          "name": "stdout",
          "text": [
            "Mounted at /content/drive\n"
          ]
        }
      ]
    },
    {
      "cell_type": "code",
      "execution_count": null,
      "metadata": {
        "id": "NPSNy3bJSZ5m"
      },
      "outputs": [],
      "source": [
        "import os\n",
        "from sktime.datasets import load_from_arff_to_dataframe\n",
        "X_train,y_train= load_from_arff_to_dataframe(\n",
        "    \"/content/drive/MyDrive/EtudeJDD/Dataset/WISDM_TRAIN.arff\")\n",
        "\n",
        "X_test,y_test= load_from_arff_to_dataframe(\n",
        "    \"/content/drive/MyDrive/EtudeJDD/Dataset/WISDM_TEST.arff\")"
      ]
    },
    {
      "cell_type": "markdown",
      "source": [
        "##Pickel"
      ],
      "metadata": {
        "id": "Tyj3XBy-zplh"
      }
    },
    {
      "cell_type": "code",
      "source": [
        "import pickle"
      ],
      "metadata": {
        "id": "9rWmaUDF4e6_"
      },
      "execution_count": null,
      "outputs": []
    },
    {
      "cell_type": "markdown",
      "source": [
        "### ShapletTransformClassifier"
      ],
      "metadata": {
        "id": "2eEUZNhibvsX"
      }
    },
    {
      "cell_type": "code",
      "source": [
        "import time"
      ],
      "metadata": {
        "id": "stgBq1gFcCu4"
      },
      "execution_count": null,
      "outputs": []
    },
    {
      "cell_type": "code",
      "source": [
        "from sktime.classification.shapelet_based import ShapeletTransformClassifier\n",
        "from sktime.classification.sklearn import RotationForest\n",
        "start_time=time.time()\n",
        "clfSTC = ShapeletTransformClassifier(\n",
        "    estimator=RotationForest(n_estimators=10),\n",
        "    n_shapelet_samples=100,\n",
        "    max_shapelets=10,\n",
        "    batch_size=20,\n",
        ")\n",
        "clfSTC.fit(X_train, y_train)\n",
        "end_time=time.time()\n",
        "execution_time=end_time-start_time\n",
        "execution_time"
      ],
      "metadata": {
        "colab": {
          "base_uri": "https://localhost:8080/"
        },
        "id": "YkdI9h6W7CYv",
        "outputId": "4f27326f-34b1-4044-e90f-17c06edd0a63"
      },
      "execution_count": null,
      "outputs": [
        {
          "output_type": "execute_result",
          "data": {
            "text/plain": [
              "33.37005591392517"
            ]
          },
          "metadata": {},
          "execution_count": 7
        }
      ]
    },
    {
      "cell_type": "code",
      "source": [
        "clfSTC.score(X_test,y_test)"
      ],
      "metadata": {
        "colab": {
          "base_uri": "https://localhost:8080/"
        },
        "id": "jKW1Af5y8eUw",
        "outputId": "56f8b225-0608-49c7-aa69-13c1ab514120"
      },
      "execution_count": null,
      "outputs": [
        {
          "output_type": "execute_result",
          "data": {
            "text/plain": [
              "0.6864436012418075"
            ]
          },
          "metadata": {},
          "execution_count": 8
        }
      ]
    },
    {
      "cell_type": "code",
      "source": [
        "clfSTC.predict_proba(X_test)"
      ],
      "metadata": {
        "colab": {
          "base_uri": "https://localhost:8080/"
        },
        "id": "B1gWBIceXVnr",
        "outputId": "b4e7b76e-3b83-461b-8a8e-21a60d942d65"
      },
      "execution_count": null,
      "outputs": [
        {
          "output_type": "execute_result",
          "data": {
            "text/plain": [
              "array([[0.8, 0. , 0. , 0. , 0.2, 0. ],\n",
              "       [1. , 0. , 0. , 0. , 0. , 0. ],\n",
              "       [1. , 0. , 0. , 0. , 0. , 0. ],\n",
              "       ...,\n",
              "       [0. , 0.7, 0. , 0. , 0.2, 0.1],\n",
              "       [0. , 0.3, 0. , 0. , 0.4, 0.3],\n",
              "       [0. , 0.9, 0. , 0. , 0. , 0.1]])"
            ]
          },
          "metadata": {},
          "execution_count": 9
        }
      ]
    },
    {
      "cell_type": "code",
      "source": [
        "with open('/content/drive/MyDrive/Etude JDD/STCClf.pickle', 'wb') as f:\n",
        "    pickle.dump(clfSTC, f)\n",
        "\n",
        "f.close()"
      ],
      "metadata": {
        "id": "IOoC5YZe8r6K"
      },
      "execution_count": null,
      "outputs": []
    },
    {
      "cell_type": "code",
      "source": [
        "with open('/content/drive/MyDrive/Etude JDD/STCClf.pickle', 'rb') as f:\n",
        "    STCClf=pickle.load(f)\n",
        "\n",
        "f.close()"
      ],
      "metadata": {
        "id": "8b6BNLco86oD"
      },
      "execution_count": null,
      "outputs": []
    },
    {
      "cell_type": "code",
      "source": [
        "STCClf.score(X_test,y_test)"
      ],
      "metadata": {
        "colab": {
          "base_uri": "https://localhost:8080/"
        },
        "id": "7FAzLZAp9Bnc",
        "outputId": "c79d31e9-5a4a-4962-f856-b594b621d02f"
      },
      "execution_count": null,
      "outputs": [
        {
          "output_type": "execute_result",
          "data": {
            "text/plain": [
              "0.6974818903070024"
            ]
          },
          "metadata": {},
          "execution_count": 21
        }
      ]
    },
    {
      "cell_type": "code",
      "source": [
        "STCClf.predict_proba(X_test)"
      ],
      "metadata": {
        "colab": {
          "base_uri": "https://localhost:8080/"
        },
        "id": "9Jts3v8cY03u",
        "outputId": "171ff95a-f6e8-47f1-bfc6-dd2908127145"
      },
      "execution_count": null,
      "outputs": [
        {
          "output_type": "execute_result",
          "data": {
            "text/plain": [
              "array([[0. , 0. , 0. , 0. , 1. , 0. ],\n",
              "       [0. , 0.3, 0.2, 0. , 0.3, 0.2],\n",
              "       [0.3, 0.6, 0. , 0. , 0. , 0.1],\n",
              "       ...,\n",
              "       [0. , 0. , 0. , 0. , 0. , 1. ],\n",
              "       [0. , 0.1, 0. , 0.4, 0.1, 0.4],\n",
              "       [0. , 0. , 0. , 0.1, 0. , 0.9]])"
            ]
          },
          "metadata": {},
          "execution_count": 29
        }
      ]
    },
    {
      "cell_type": "markdown",
      "source": [
        "### ContractbaleBOSS"
      ],
      "metadata": {
        "id": "ln-XWIzAcNNV"
      }
    },
    {
      "cell_type": "code",
      "source": [
        "from sktime.classification.dictionary_based import ContractableBOSS\n",
        "start_time=time.time()\n",
        "clfCBOSS = ContractableBOSS(n_parameter_samples=10, max_ensemble_size=3)\n",
        "clfCBOSS.fit(X_train, y_train)\n",
        "end_time=time.time()\n",
        "execution_time=end_time-start_time\n",
        "execution_time"
      ],
      "metadata": {
        "colab": {
          "base_uri": "https://localhost:8080/"
        },
        "id": "yBbrm1yD9OkI",
        "outputId": "48870556-91b4-4ab9-a5a8-e606628591a1"
      },
      "execution_count": null,
      "outputs": [
        {
          "output_type": "execute_result",
          "data": {
            "text/plain": [
              "26.40490746498108"
            ]
          },
          "metadata": {},
          "execution_count": 40
        }
      ]
    },
    {
      "cell_type": "code",
      "source": [
        "clfCBOSS.score(X_test, y_test)"
      ],
      "metadata": {
        "colab": {
          "base_uri": "https://localhost:8080/"
        },
        "id": "k84LMjzK-h-9",
        "outputId": "624dd063-cc83-4053-d7d8-4514ee6fb6f9"
      },
      "execution_count": null,
      "outputs": [
        {
          "output_type": "execute_result",
          "data": {
            "text/plain": [
              "0.7795791652293894"
            ]
          },
          "metadata": {},
          "execution_count": 41
        }
      ]
    },
    {
      "cell_type": "code",
      "source": [
        "with open('/content/drive/MyDrive/Etude JDD/CBOSSClf.pickle', 'wb') as f:\n",
        "    pickle.dump(clfCBOSS, f)\n",
        "\n",
        "f.close()"
      ],
      "metadata": {
        "id": "HUwzxl__-mxo"
      },
      "execution_count": null,
      "outputs": []
    },
    {
      "cell_type": "code",
      "source": [
        "with open('/content/drive/MyDrive/Etude JDD/CBOSSClf.pickle', 'rb') as f:\n",
        "    CBOSSClf=pickle.load(f)\n",
        "\n",
        "f.close()"
      ],
      "metadata": {
        "id": "3zq9bOnRj6hG"
      },
      "execution_count": null,
      "outputs": []
    },
    {
      "cell_type": "code",
      "source": [
        "CBOSSClf.score(X_test,y_test)"
      ],
      "metadata": {
        "colab": {
          "base_uri": "https://localhost:8080/"
        },
        "id": "RaXFGxntkDtM",
        "outputId": "ac3c5283-371b-4a50-95f4-f8acfccda7ce"
      },
      "execution_count": null,
      "outputs": [
        {
          "output_type": "execute_result",
          "data": {
            "text/plain": [
              "0.7795791652293894"
            ]
          },
          "metadata": {},
          "execution_count": 45
        }
      ]
    },
    {
      "cell_type": "markdown",
      "source": [
        "### RocketClassifier"
      ],
      "metadata": {
        "id": "0U6UYRO1cTbp"
      }
    },
    {
      "cell_type": "code",
      "source": [
        "from sktime.classification.kernel_based import RocketClassifier\n",
        "clf = RocketClassifier(num_kernels=1000, random_state=None)\n",
        "clf.fit(X_train,y_train)\n",
        "clf.score(X_test,y_test)\n"
      ],
      "metadata": {
        "colab": {
          "base_uri": "https://localhost:8080/"
        },
        "id": "Blb8MKMJi_FP",
        "outputId": "01feed3b-aa80-4a65-e714-b684a3aa0eea"
      },
      "execution_count": null,
      "outputs": [
        {
          "output_type": "execute_result",
          "data": {
            "text/plain": [
              "0.8299413590893412"
            ]
          },
          "metadata": {},
          "execution_count": 10
        }
      ]
    },
    {
      "cell_type": "code",
      "source": [
        "with open('/content/drive/MyDrive/Etude JDD/RocketClf.pickle', 'wb') as f:\n",
        "    pickle.dump(clf, f)\n",
        "\n",
        "f.close()"
      ],
      "metadata": {
        "id": "RT48LWRmnMre"
      },
      "execution_count": null,
      "outputs": []
    },
    {
      "cell_type": "code",
      "source": [
        "with open('/content/drive/MyDrive/Etude JDD/RocketClf.pickle', 'rb') as f:\n",
        "    clf1=pickle.load(f)\n",
        "\n",
        "f.close()"
      ],
      "metadata": {
        "id": "Hlr7qen9nmWz"
      },
      "execution_count": null,
      "outputs": []
    },
    {
      "cell_type": "code",
      "source": [
        "X,y= load_from_arff_to_dataframe(\n",
        "    \"/content/drive/MyDrive/EtudeJDD/Dataset/WISDM_ar_v1.1_final_examples_50ms.arff\")"
      ],
      "metadata": {
        "id": "d6LzD6lZXGBU"
      },
      "execution_count": null,
      "outputs": []
    },
    {
      "cell_type": "code",
      "source": [
        "clf1.score(X_test,y_test)"
      ],
      "metadata": {
        "colab": {
          "base_uri": "https://localhost:8080/"
        },
        "id": "so8Bl9llYShk",
        "outputId": "1584f1fd-ecb9-4a18-e1b6-67aa5c43237d"
      },
      "execution_count": null,
      "outputs": [
        {
          "output_type": "execute_result",
          "data": {
            "text/plain": [
              "0.8261469472231804"
            ]
          },
          "metadata": {},
          "execution_count": 31
        }
      ]
    },
    {
      "cell_type": "code",
      "source": [
        "clf1.predict_proba(X_test)"
      ],
      "metadata": {
        "colab": {
          "base_uri": "https://localhost:8080/"
        },
        "id": "QPXpuD9tnMu4",
        "outputId": "0d34a6e4-6941-4a53-c098-ba6ffff360a7"
      },
      "execution_count": null,
      "outputs": [
        {
          "output_type": "execute_result",
          "data": {
            "text/plain": [
              "array([[1., 0., 0., 0., 0., 0.],\n",
              "       [1., 0., 0., 0., 0., 0.],\n",
              "       [1., 0., 0., 0., 0., 0.],\n",
              "       ...,\n",
              "       [0., 1., 0., 0., 0., 0.],\n",
              "       [0., 1., 0., 0., 0., 0.],\n",
              "       [0., 0., 0., 0., 1., 0.]])"
            ]
          },
          "metadata": {},
          "execution_count": 46
        }
      ]
    }
  ],
  "metadata": {
    "colab": {
      "provenance": [],
      "include_colab_link": true
    },
    "kernelspec": {
      "display_name": "Python 3",
      "name": "python3"
    },
    "language_info": {
      "name": "python"
    }
  },
  "nbformat": 4,
  "nbformat_minor": 0
}